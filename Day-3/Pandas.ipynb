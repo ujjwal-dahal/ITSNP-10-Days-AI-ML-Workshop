{
 "cells": [
  {
   "cell_type": "markdown",
   "id": "a0776066-7f61-4525-9fb2-7062ae95006b",
   "metadata": {},
   "source": [
    "# Pandas"
   ]
  },
  {
   "cell_type": "markdown",
   "id": "cbdf784c-a828-4a27-9aed-8d3c2d197a88",
   "metadata": {},
   "source": [
    "## Building Panda DataFrame"
   ]
  },
  {
   "cell_type": "code",
   "execution_count": 3,
   "id": "2c1b5882-57f6-4bef-a092-7a2e70d2a00f",
   "metadata": {},
   "outputs": [],
   "source": [
    "import pandas as pd"
   ]
  },
  {
   "cell_type": "code",
   "execution_count": 4,
   "id": "e3095493-73eb-4941-85a9-22557776b6f8",
   "metadata": {},
   "outputs": [],
   "source": [
    "data = {\n",
    "    'Name' : [\"Alice\" , \"Ram\" , \"Sita\" , \"David\"],\n",
    "    'Age' : [25,30,11,15],\n",
    "    'City' : [\"New York\", \"Pokhara\" , \"Jhumka\" , \"Biratnagar\"]\n",
    "}"
   ]
  },
  {
   "cell_type": "code",
   "execution_count": 6,
   "id": "03be24dc-eb26-462c-8940-02814878eb43",
   "metadata": {},
   "outputs": [
    {
     "name": "stdout",
     "output_type": "stream",
     "text": [
      "    Name  Age        City\n",
      "0  Alice   25    New York\n",
      "1    Ram   30     Pokhara\n",
      "2   Sita   11      Jhumka\n",
      "3  David   15  Biratnagar\n"
     ]
    }
   ],
   "source": [
    "df = pd.DataFrame(data)\n",
    "print(df)"
   ]
  },
  {
   "cell_type": "code",
   "execution_count": 7,
   "id": "189e5c34-75d1-462c-bebc-0c6d36d1fbe7",
   "metadata": {},
   "outputs": [
    {
     "data": {
      "text/html": [
       "<div>\n",
       "<style scoped>\n",
       "    .dataframe tbody tr th:only-of-type {\n",
       "        vertical-align: middle;\n",
       "    }\n",
       "\n",
       "    .dataframe tbody tr th {\n",
       "        vertical-align: top;\n",
       "    }\n",
       "\n",
       "    .dataframe thead th {\n",
       "        text-align: right;\n",
       "    }\n",
       "</style>\n",
       "<table border=\"1\" class=\"dataframe\">\n",
       "  <thead>\n",
       "    <tr style=\"text-align: right;\">\n",
       "      <th></th>\n",
       "      <th>Name</th>\n",
       "      <th>Age</th>\n",
       "      <th>City</th>\n",
       "    </tr>\n",
       "  </thead>\n",
       "  <tbody>\n",
       "    <tr>\n",
       "      <th>0</th>\n",
       "      <td>Alice</td>\n",
       "      <td>25</td>\n",
       "      <td>New York</td>\n",
       "    </tr>\n",
       "    <tr>\n",
       "      <th>1</th>\n",
       "      <td>Ram</td>\n",
       "      <td>30</td>\n",
       "      <td>Pokhara</td>\n",
       "    </tr>\n",
       "    <tr>\n",
       "      <th>2</th>\n",
       "      <td>Sita</td>\n",
       "      <td>11</td>\n",
       "      <td>Jhumka</td>\n",
       "    </tr>\n",
       "    <tr>\n",
       "      <th>3</th>\n",
       "      <td>David</td>\n",
       "      <td>15</td>\n",
       "      <td>Biratnagar</td>\n",
       "    </tr>\n",
       "  </tbody>\n",
       "</table>\n",
       "</div>"
      ],
      "text/plain": [
       "    Name  Age        City\n",
       "0  Alice   25    New York\n",
       "1    Ram   30     Pokhara\n",
       "2   Sita   11      Jhumka\n",
       "3  David   15  Biratnagar"
      ]
     },
     "execution_count": 7,
     "metadata": {},
     "output_type": "execute_result"
    }
   ],
   "source": [
    "df"
   ]
  },
  {
   "cell_type": "code",
   "execution_count": 8,
   "id": "8df7d5cc-13a1-4515-bc2f-f823a9416239",
   "metadata": {},
   "outputs": [
    {
     "name": "stdout",
     "output_type": "stream",
     "text": [
      "<class 'pandas.core.frame.DataFrame'>\n",
      "RangeIndex: 4 entries, 0 to 3\n",
      "Data columns (total 3 columns):\n",
      " #   Column  Non-Null Count  Dtype \n",
      "---  ------  --------------  ----- \n",
      " 0   Name    4 non-null      object\n",
      " 1   Age     4 non-null      int64 \n",
      " 2   City    4 non-null      object\n",
      "dtypes: int64(1), object(2)\n",
      "memory usage: 228.0+ bytes\n",
      "None\n"
     ]
    }
   ],
   "source": [
    "print(df.info())"
   ]
  },
  {
   "cell_type": "code",
   "execution_count": 9,
   "id": "352e46a8-5217-4290-a01e-0904a2efae6d",
   "metadata": {},
   "outputs": [
    {
     "name": "stdout",
     "output_type": "stream",
     "text": [
      "             Age\n",
      "count   4.000000\n",
      "mean   20.250000\n",
      "std     8.770215\n",
      "min    11.000000\n",
      "25%    14.000000\n",
      "50%    20.000000\n",
      "75%    26.250000\n",
      "max    30.000000\n"
     ]
    }
   ],
   "source": [
    "print(df.describe())"
   ]
  },
  {
   "cell_type": "code",
   "execution_count": 10,
   "id": "968ee1fd-7c67-49e6-9f8f-f55df8b54a48",
   "metadata": {},
   "outputs": [
    {
     "name": "stdout",
     "output_type": "stream",
     "text": [
      "<class 'pandas.core.frame.DataFrame'>\n",
      "RangeIndex: 4 entries, 0 to 3\n",
      "Data columns (total 3 columns):\n",
      " #   Column  Non-Null Count  Dtype \n",
      "---  ------  --------------  ----- \n",
      " 0   Name    4 non-null      object\n",
      " 1   Age     4 non-null      int64 \n",
      " 2   City    4 non-null      object\n",
      "dtypes: int64(1), object(2)\n",
      "memory usage: 228.0+ bytes\n"
     ]
    }
   ],
   "source": [
    "df.info()"
   ]
  },
  {
   "cell_type": "code",
   "execution_count": 11,
   "id": "92488f37-7790-42ff-b5bc-a73893bc5494",
   "metadata": {},
   "outputs": [
    {
     "data": {
      "text/html": [
       "<div>\n",
       "<style scoped>\n",
       "    .dataframe tbody tr th:only-of-type {\n",
       "        vertical-align: middle;\n",
       "    }\n",
       "\n",
       "    .dataframe tbody tr th {\n",
       "        vertical-align: top;\n",
       "    }\n",
       "\n",
       "    .dataframe thead th {\n",
       "        text-align: right;\n",
       "    }\n",
       "</style>\n",
       "<table border=\"1\" class=\"dataframe\">\n",
       "  <thead>\n",
       "    <tr style=\"text-align: right;\">\n",
       "      <th></th>\n",
       "      <th>Age</th>\n",
       "    </tr>\n",
       "  </thead>\n",
       "  <tbody>\n",
       "    <tr>\n",
       "      <th>count</th>\n",
       "      <td>4.000000</td>\n",
       "    </tr>\n",
       "    <tr>\n",
       "      <th>mean</th>\n",
       "      <td>20.250000</td>\n",
       "    </tr>\n",
       "    <tr>\n",
       "      <th>std</th>\n",
       "      <td>8.770215</td>\n",
       "    </tr>\n",
       "    <tr>\n",
       "      <th>min</th>\n",
       "      <td>11.000000</td>\n",
       "    </tr>\n",
       "    <tr>\n",
       "      <th>25%</th>\n",
       "      <td>14.000000</td>\n",
       "    </tr>\n",
       "    <tr>\n",
       "      <th>50%</th>\n",
       "      <td>20.000000</td>\n",
       "    </tr>\n",
       "    <tr>\n",
       "      <th>75%</th>\n",
       "      <td>26.250000</td>\n",
       "    </tr>\n",
       "    <tr>\n",
       "      <th>max</th>\n",
       "      <td>30.000000</td>\n",
       "    </tr>\n",
       "  </tbody>\n",
       "</table>\n",
       "</div>"
      ],
      "text/plain": [
       "             Age\n",
       "count   4.000000\n",
       "mean   20.250000\n",
       "std     8.770215\n",
       "min    11.000000\n",
       "25%    14.000000\n",
       "50%    20.000000\n",
       "75%    26.250000\n",
       "max    30.000000"
      ]
     },
     "execution_count": 11,
     "metadata": {},
     "output_type": "execute_result"
    }
   ],
   "source": [
    "df.describe()"
   ]
  },
  {
   "cell_type": "code",
   "execution_count": 13,
   "id": "a1b99698-8b40-4643-b16e-16f33d34c28b",
   "metadata": {},
   "outputs": [
    {
     "name": "stdout",
     "output_type": "stream",
     "text": [
      "<class 'pandas.core.frame.DataFrame'>\n",
      "RangeIndex: 4 entries, 0 to 3\n",
      "Data columns (total 3 columns):\n",
      " #   Column  Non-Null Count  Dtype \n",
      "---  ------  --------------  ----- \n",
      " 0   Name    4 non-null      object\n",
      " 1   Age     4 non-null      int64 \n",
      " 2   City    4 non-null      object\n",
      "dtypes: int64(1), object(2)\n",
      "memory usage: 228.0+ bytes\n"
     ]
    }
   ],
   "source": [
    "data = {\n",
    "    'Name' : [\"Alice\" , \"Ram\" , \"Sita\" , \"David\"],\n",
    "    'Age' : [25,30,11,15],\n",
    "    'City' : [\"New York\", \"Pokhara\" , \"Jhumka\" , \"Biratnagar\"]\n",
    "}\n",
    "\n",
    "df = pd.DataFrame(data)\n",
    "df.describe()\n",
    "df.info()"
   ]
  },
  {
   "cell_type": "markdown",
   "id": "81dc17b7-c4b5-4261-bfe6-edb258c63b13",
   "metadata": {},
   "source": [
    "### Column Access garne tarika"
   ]
  },
  {
   "cell_type": "code",
   "execution_count": 15,
   "id": "0fde064b-ea26-4baa-b3ee-f58fe3aad72f",
   "metadata": {},
   "outputs": [
    {
     "data": {
      "text/plain": [
       "0    Alice\n",
       "1      Ram\n",
       "2     Sita\n",
       "3    David\n",
       "Name: Name, dtype: object"
      ]
     },
     "execution_count": 15,
     "metadata": {},
     "output_type": "execute_result"
    }
   ],
   "source": [
    "df[\"Name\"]  #Column ko name"
   ]
  },
  {
   "cell_type": "code",
   "execution_count": 17,
   "id": "1df19889-86df-4c18-9c45-9b2411377f95",
   "metadata": {},
   "outputs": [
    {
     "name": "stdout",
     "output_type": "stream",
     "text": [
      "0    Alice\n",
      "1      Ram\n",
      "2     Sita\n",
      "3    David\n",
      "Name: Name, dtype: object\n"
     ]
    }
   ],
   "source": [
    "print(df.Name)  #Using dot operator"
   ]
  },
  {
   "cell_type": "markdown",
   "id": "1d62a89b-478b-4566-8f4a-3dfbf91faa9b",
   "metadata": {},
   "source": [
    "## Label-based Indexing (loc)"
   ]
  },
  {
   "cell_type": "code",
   "execution_count": 19,
   "id": "3fc41002-1c2d-47ee-adff-0104df9859a6",
   "metadata": {},
   "outputs": [
    {
     "data": {
      "text/plain": [
       "'\\nList ma Slicing garda Start Index Include huncha Tara End Index Exclude huncha\\nTara\\nloc ma chai Start and End both Index Include huncha\\n'"
      ]
     },
     "execution_count": 19,
     "metadata": {},
     "output_type": "execute_result"
    }
   ],
   "source": [
    "\"\"\"label bhaneko Row ko index ho in Pandas\"\"\"\n",
    "\n",
    "\"\"\"\n",
    "List ma Slicing garda Start Index Include huncha Tara End Index Exclude huncha\n",
    "Tara\n",
    "loc ma chai Start and End both Index Include huncha\n",
    "\n",
    "-> loc le square bracket use garcha eg df.loc[\"a\"]\n",
    "\"\"\""
   ]
  },
  {
   "cell_type": "code",
   "execution_count": 21,
   "id": "b4a4cb0e-13c8-4d9f-87c0-4678f4324a93",
   "metadata": {},
   "outputs": [],
   "source": [
    "import pandas as pd\n",
    "\n",
    "df = pd.DataFrame({\n",
    "    'Name' : [\"Alice\" , \"Ram\" , \"Sita\" , \"David\"],\n",
    "    'Age' : [25,30,11,15],\n",
    "    'City' : [\"New York\", \"Pokhara\" , \"Jhumka\" , \"Biratnagar\"]\n",
    "}, index =['a','b','c','d']) #esari index dina milcha\n",
    "#otherwise default ma 0 1 2 3 huncha\n",
    "\n",
    "df.to_csv(\"file_name.csv\", index=False) #esle chai CSV File banaucha\n",
    "\n",
    "#index=True huda chai chuttai Index value ko\n",
    "#Column bancha without column name\n",
    "#junle pachi issue lyauna sakcha\n",
    "\n",
    "#so better to keep index=False"
   ]
  },
  {
   "cell_type": "raw",
   "id": "2fb282d0-29b6-42cd-a56c-37e0a62acc2b",
   "metadata": {},
   "source": [
    "loc le Index use garera row ko information dincha"
   ]
  },
  {
   "cell_type": "code",
   "execution_count": 22,
   "id": "c35df6f9-dca4-439a-80cc-3b59d98d304e",
   "metadata": {},
   "outputs": [
    {
     "data": {
      "text/plain": [
       "Name       Alice\n",
       "Age           25\n",
       "City    New York\n",
       "Name: a, dtype: object"
      ]
     },
     "execution_count": 22,
     "metadata": {},
     "output_type": "execute_result"
    }
   ],
   "source": [
    "df.loc[\"a\"]"
   ]
  },
  {
   "cell_type": "code",
   "execution_count": 24,
   "id": "e8e72e08-9d7c-4f01-8282-0520bb586e6b",
   "metadata": {},
   "outputs": [
    {
     "name": "stdout",
     "output_type": "stream",
     "text": [
      "Name    Alice\n",
      "Age        25\n",
      "Name: a, dtype: object\n"
     ]
    }
   ],
   "source": [
    "#Row ko selected Column ko information chaeyeko bela\n",
    "\n",
    "print(df.loc[\"a\", [\"Name\", \"Age\"]])"
   ]
  },
  {
   "cell_type": "code",
   "execution_count": 28,
   "id": "bb22c514-9096-410a-a66b-b0d15518f321",
   "metadata": {},
   "outputs": [
    {
     "name": "stdout",
     "output_type": "stream",
     "text": [
      "    Name  Age      City\n",
      "a  Alice   25  New York\n",
      "b    Ram   30   Pokhara\n",
      "c   Sita   11    Jhumka\n"
     ]
    }
   ],
   "source": [
    "print(df.loc['a':'c']) #Index a to c samma ko row chaeda"
   ]
  },
  {
   "cell_type": "code",
   "execution_count": 32,
   "id": "01ce6703-5397-44ae-82ec-19a52b08f7bb",
   "metadata": {},
   "outputs": [
    {
     "name": "stdout",
     "output_type": "stream",
     "text": [
      "    Name  Age      City\n",
      "a  Alice   25  New York\n",
      "b    Ram   30   Pokhara\n"
     ]
    }
   ],
   "source": [
    "print(df.loc[df[\"Age\"] > 20])"
   ]
  },
  {
   "cell_type": "code",
   "execution_count": 34,
   "id": "7e068f84-3767-411e-8a4e-06272e849d70",
   "metadata": {},
   "outputs": [
    {
     "name": "stdout",
     "output_type": "stream",
     "text": [
      "   Name  Age    City\n",
      "c  Sita   11  Jhumka\n"
     ]
    }
   ],
   "source": [
    "print(df.loc[df[\"City\"]==\"Jhumka\"])"
   ]
  },
  {
   "cell_type": "markdown",
   "id": "59987dc3-0bfb-49d5-a730-be8b247eb623",
   "metadata": {},
   "source": [
    "# Integer Position-based Indexing (iloc)"
   ]
  },
  {
   "cell_type": "raw",
   "id": "9ee91323-2e47-4f97-a180-a72932a7a86b",
   "metadata": {},
   "source": [
    "esma End Index is exclusive like List in Python\n",
    "list jastai ho\n"
   ]
  },
  {
   "cell_type": "code",
   "execution_count": 35,
   "id": "fe799fbd-2e2f-4869-8675-89697af6b73c",
   "metadata": {},
   "outputs": [],
   "source": [
    "import pandas as pd\n",
    "\n",
    "df = pd.DataFrame({\n",
    "    'Name' : [\"Alice\" , \"Ram\" , \"Sita\" , \"David\"],\n",
    "    'Age' : [25,30,11,15],\n",
    "    'City' : [\"New York\", \"Pokhara\" , \"Jhumka\" , \"Biratnagar\"]\n",
    "}, index =['a','b','c','d'])\n"
   ]
  },
  {
   "cell_type": "code",
   "execution_count": 36,
   "id": "739fc50e-a77d-405f-8fec-6817f82c58ce",
   "metadata": {},
   "outputs": [
    {
     "name": "stdout",
     "output_type": "stream",
     "text": [
      "Name        Ram\n",
      "Age          30\n",
      "City    Pokhara\n",
      "Name: b, dtype: object\n"
     ]
    }
   ],
   "source": [
    "print(df.iloc[1])"
   ]
  },
  {
   "cell_type": "code",
   "execution_count": 37,
   "id": "cd5c5f3b-585d-4be8-8835-27a1a1a43ff6",
   "metadata": {},
   "outputs": [
    {
     "name": "stdout",
     "output_type": "stream",
     "text": [
      "<class 'pandas.core.frame.DataFrame'>\n",
      "Index: 4 entries, a to d\n",
      "Data columns (total 3 columns):\n",
      " #   Column  Non-Null Count  Dtype \n",
      "---  ------  --------------  ----- \n",
      " 0   Name    4 non-null      object\n",
      " 1   Age     4 non-null      int64 \n",
      " 2   City    4 non-null      object\n",
      "dtypes: int64(1), object(2)\n",
      "memory usage: 128.0+ bytes\n"
     ]
    }
   ],
   "source": [
    "df.info()"
   ]
  },
  {
   "cell_type": "code",
   "execution_count": 38,
   "id": "08405a94-43e7-446a-b295-fff47e2af8d8",
   "metadata": {},
   "outputs": [
    {
     "name": "stdout",
     "output_type": "stream",
     "text": [
      "   Name  Age     City\n",
      "b   Ram   30  Pokhara\n",
      "c  Sita   11   Jhumka\n"
     ]
    }
   ],
   "source": [
    "print(df.iloc[[1,2]])\n",
    "#Double square bracket means tesko Row haru bhaneko bujne"
   ]
  },
  {
   "cell_type": "code",
   "execution_count": 40,
   "id": "923b15c5-74a5-42dc-8ba1-4b5752191f3f",
   "metadata": {},
   "outputs": [
    {
     "name": "stdout",
     "output_type": "stream",
     "text": [
      "30\n"
     ]
    }
   ],
   "source": [
    "print(df.iloc[1,1]) #1st Row ko 1st Item Bhancha esle\n",
    "#tara loc ma mildaina esari"
   ]
  },
  {
   "cell_type": "code",
   "execution_count": 44,
   "id": "6d6bc362-4694-47d9-8aa8-20c1cf7ff411",
   "metadata": {},
   "outputs": [
    {
     "name": "stdout",
     "output_type": "stream",
     "text": [
      "Name      Sita\n",
      "City    Jhumka\n",
      "Name: c, dtype: object\n"
     ]
    }
   ],
   "source": [
    "print(df.iloc[2 , [0 , 2]]) #2nd Row ko Oth Column and \n",
    "#2nd Column Lina bhano"
   ]
  },
  {
   "cell_type": "code",
   "execution_count": 46,
   "id": "fdba5c55-76d2-4e26-b44d-4754943ea5ee",
   "metadata": {},
   "outputs": [
    {
     "name": "stdout",
     "output_type": "stream",
     "text": [
      "    Name        City\n",
      "a  Alice    New York\n",
      "b    Ram     Pokhara\n",
      "c   Sita      Jhumka\n",
      "d  David  Biratnagar\n"
     ]
    }
   ],
   "source": [
    "print(df.iloc[: , [0,2]]) #1st Value le kati ota row bhancha\n",
    "#2nd value le kun kun Column bhancha"
   ]
  },
  {
   "cell_type": "markdown",
   "id": "0b81cefe-8aed-42a7-8fd0-9aeef2442933",
   "metadata": {},
   "source": [
    "# Data Filtering"
   ]
  },
  {
   "cell_type": "code",
   "execution_count": 58,
   "id": "e0218d2c-ec2f-4e8d-83c5-f369c7c99da1",
   "metadata": {},
   "outputs": [
    {
     "data": {
      "text/html": [
       "<div>\n",
       "<style scoped>\n",
       "    .dataframe tbody tr th:only-of-type {\n",
       "        vertical-align: middle;\n",
       "    }\n",
       "\n",
       "    .dataframe tbody tr th {\n",
       "        vertical-align: top;\n",
       "    }\n",
       "\n",
       "    .dataframe thead th {\n",
       "        text-align: right;\n",
       "    }\n",
       "</style>\n",
       "<table border=\"1\" class=\"dataframe\">\n",
       "  <thead>\n",
       "    <tr style=\"text-align: right;\">\n",
       "      <th></th>\n",
       "      <th>Name</th>\n",
       "      <th>Age</th>\n",
       "      <th>City</th>\n",
       "    </tr>\n",
       "  </thead>\n",
       "  <tbody>\n",
       "    <tr>\n",
       "      <th>0</th>\n",
       "      <td>Alice</td>\n",
       "      <td>25</td>\n",
       "      <td>New York</td>\n",
       "    </tr>\n",
       "    <tr>\n",
       "      <th>1</th>\n",
       "      <td>Ram</td>\n",
       "      <td>30</td>\n",
       "      <td>Pokhara</td>\n",
       "    </tr>\n",
       "    <tr>\n",
       "      <th>2</th>\n",
       "      <td>Sita</td>\n",
       "      <td>51</td>\n",
       "      <td>Jhumka</td>\n",
       "    </tr>\n",
       "    <tr>\n",
       "      <th>3</th>\n",
       "      <td>David</td>\n",
       "      <td>15</td>\n",
       "      <td>Biratnagar</td>\n",
       "    </tr>\n",
       "  </tbody>\n",
       "</table>\n",
       "</div>"
      ],
      "text/plain": [
       "    Name  Age        City\n",
       "0  Alice   25    New York\n",
       "1    Ram   30     Pokhara\n",
       "2   Sita   51      Jhumka\n",
       "3  David   15  Biratnagar"
      ]
     },
     "execution_count": 58,
     "metadata": {},
     "output_type": "execute_result"
    }
   ],
   "source": [
    "import pandas as pd\n",
    "\n",
    "df = pd.DataFrame({\n",
    "    'Name' : [\"Alice\" , \"Ram\" , \"Sita\" , \"David\"],\n",
    "    'Age' : [25,30,51,15],\n",
    "    'City' : [\"New York\", \"Pokhara\" , \"Jhumka\" , \"Biratnagar\"]\n",
    "})\n",
    "\n",
    "df\n"
   ]
  },
  {
   "cell_type": "code",
   "execution_count": 60,
   "id": "e949c7b9-9f02-479c-be53-41a8ad198dff",
   "metadata": {},
   "outputs": [
    {
     "data": {
      "text/html": [
       "<div>\n",
       "<style scoped>\n",
       "    .dataframe tbody tr th:only-of-type {\n",
       "        vertical-align: middle;\n",
       "    }\n",
       "\n",
       "    .dataframe tbody tr th {\n",
       "        vertical-align: top;\n",
       "    }\n",
       "\n",
       "    .dataframe thead th {\n",
       "        text-align: right;\n",
       "    }\n",
       "</style>\n",
       "<table border=\"1\" class=\"dataframe\">\n",
       "  <thead>\n",
       "    <tr style=\"text-align: right;\">\n",
       "      <th></th>\n",
       "      <th>Name</th>\n",
       "      <th>Age</th>\n",
       "      <th>City</th>\n",
       "      <th>Country</th>\n",
       "    </tr>\n",
       "  </thead>\n",
       "  <tbody>\n",
       "    <tr>\n",
       "      <th>1</th>\n",
       "      <td>Ram</td>\n",
       "      <td>30</td>\n",
       "      <td>Pokhara</td>\n",
       "      <td>USA</td>\n",
       "    </tr>\n",
       "    <tr>\n",
       "      <th>2</th>\n",
       "      <td>Sita</td>\n",
       "      <td>51</td>\n",
       "      <td>Jhumka</td>\n",
       "      <td>USA</td>\n",
       "    </tr>\n",
       "  </tbody>\n",
       "</table>\n",
       "</div>"
      ],
      "text/plain": [
       "   Name  Age     City Country\n",
       "1   Ram   30  Pokhara     USA\n",
       "2  Sita   51   Jhumka     USA"
      ]
     },
     "execution_count": 60,
     "metadata": {},
     "output_type": "execute_result"
    }
   ],
   "source": [
    "adults = df[df.Age >=30]\n",
    "adults"
   ]
  },
  {
   "cell_type": "code",
   "execution_count": 54,
   "id": "7634011c-1d36-4f7b-b912-9897b13b233a",
   "metadata": {},
   "outputs": [
    {
     "data": {
      "text/html": [
       "<div>\n",
       "<style scoped>\n",
       "    .dataframe tbody tr th:only-of-type {\n",
       "        vertical-align: middle;\n",
       "    }\n",
       "\n",
       "    .dataframe tbody tr th {\n",
       "        vertical-align: top;\n",
       "    }\n",
       "\n",
       "    .dataframe thead th {\n",
       "        text-align: right;\n",
       "    }\n",
       "</style>\n",
       "<table border=\"1\" class=\"dataframe\">\n",
       "  <thead>\n",
       "    <tr style=\"text-align: right;\">\n",
       "      <th></th>\n",
       "      <th>Name</th>\n",
       "      <th>Age</th>\n",
       "      <th>City</th>\n",
       "    </tr>\n",
       "  </thead>\n",
       "  <tbody>\n",
       "    <tr>\n",
       "      <th>1</th>\n",
       "      <td>Ram</td>\n",
       "      <td>30</td>\n",
       "      <td>Pokhara</td>\n",
       "    </tr>\n",
       "  </tbody>\n",
       "</table>\n",
       "</div>"
      ],
      "text/plain": [
       "  Name  Age     City\n",
       "1  Ram   30  Pokhara"
      ]
     },
     "execution_count": 54,
     "metadata": {},
     "output_type": "execute_result"
    }
   ],
   "source": [
    "adult_from_pokhara = df[ (df.Age>=20) & (df.City ==\"Pokhara\")]\n",
    "adult_from_pokhara"
   ]
  },
  {
   "cell_type": "code",
   "execution_count": 61,
   "id": "6fa674d0-725d-4393-addd-cd704af8dc75",
   "metadata": {},
   "outputs": [
    {
     "data": {
      "text/html": [
       "<div>\n",
       "<style scoped>\n",
       "    .dataframe tbody tr th:only-of-type {\n",
       "        vertical-align: middle;\n",
       "    }\n",
       "\n",
       "    .dataframe tbody tr th {\n",
       "        vertical-align: top;\n",
       "    }\n",
       "\n",
       "    .dataframe thead th {\n",
       "        text-align: right;\n",
       "    }\n",
       "</style>\n",
       "<table border=\"1\" class=\"dataframe\">\n",
       "  <thead>\n",
       "    <tr style=\"text-align: right;\">\n",
       "      <th></th>\n",
       "      <th>Name</th>\n",
       "      <th>Age</th>\n",
       "      <th>City</th>\n",
       "      <th>Country</th>\n",
       "    </tr>\n",
       "  </thead>\n",
       "  <tbody>\n",
       "    <tr>\n",
       "      <th>0</th>\n",
       "      <td>Alice</td>\n",
       "      <td>25</td>\n",
       "      <td>New York</td>\n",
       "      <td>USA</td>\n",
       "    </tr>\n",
       "    <tr>\n",
       "      <th>1</th>\n",
       "      <td>Ram</td>\n",
       "      <td>30</td>\n",
       "      <td>Pokhara</td>\n",
       "      <td>USA</td>\n",
       "    </tr>\n",
       "    <tr>\n",
       "      <th>2</th>\n",
       "      <td>Sita</td>\n",
       "      <td>51</td>\n",
       "      <td>Jhumka</td>\n",
       "      <td>USA</td>\n",
       "    </tr>\n",
       "    <tr>\n",
       "      <th>3</th>\n",
       "      <td>David</td>\n",
       "      <td>15</td>\n",
       "      <td>Biratnagar</td>\n",
       "      <td>USA</td>\n",
       "    </tr>\n",
       "  </tbody>\n",
       "</table>\n",
       "</div>"
      ],
      "text/plain": [
       "    Name  Age        City Country\n",
       "0  Alice   25    New York     USA\n",
       "1    Ram   30     Pokhara     USA\n",
       "2   Sita   51      Jhumka     USA\n",
       "3  David   15  Biratnagar     USA"
      ]
     },
     "execution_count": 61,
     "metadata": {},
     "output_type": "execute_result"
    }
   ],
   "source": [
    "df[\"Country\"] = \"USA\"\n",
    "df"
   ]
  },
  {
   "cell_type": "markdown",
   "id": "c48aa9b7-e6ae-492c-b038-9d4d3e360eee",
   "metadata": {},
   "source": [
    "### Column ko Name lai Rename Garnu parda"
   ]
  },
  {
   "cell_type": "code",
   "execution_count": 66,
   "id": "d7e3118f-645b-487c-8111-2419091be0e4",
   "metadata": {},
   "outputs": [
    {
     "data": {
      "text/html": [
       "<div>\n",
       "<style scoped>\n",
       "    .dataframe tbody tr th:only-of-type {\n",
       "        vertical-align: middle;\n",
       "    }\n",
       "\n",
       "    .dataframe tbody tr th {\n",
       "        vertical-align: top;\n",
       "    }\n",
       "\n",
       "    .dataframe thead th {\n",
       "        text-align: right;\n",
       "    }\n",
       "</style>\n",
       "<table border=\"1\" class=\"dataframe\">\n",
       "  <thead>\n",
       "    <tr style=\"text-align: right;\">\n",
       "      <th></th>\n",
       "      <th>Full_Name</th>\n",
       "      <th>Age</th>\n",
       "      <th>City</th>\n",
       "      <th>Country</th>\n",
       "    </tr>\n",
       "  </thead>\n",
       "  <tbody>\n",
       "    <tr>\n",
       "      <th>0</th>\n",
       "      <td>Alice</td>\n",
       "      <td>25</td>\n",
       "      <td>New York</td>\n",
       "      <td>USA</td>\n",
       "    </tr>\n",
       "    <tr>\n",
       "      <th>1</th>\n",
       "      <td>Ram</td>\n",
       "      <td>30</td>\n",
       "      <td>Pokhara</td>\n",
       "      <td>USA</td>\n",
       "    </tr>\n",
       "    <tr>\n",
       "      <th>2</th>\n",
       "      <td>Sita</td>\n",
       "      <td>51</td>\n",
       "      <td>Jhumka</td>\n",
       "      <td>USA</td>\n",
       "    </tr>\n",
       "    <tr>\n",
       "      <th>3</th>\n",
       "      <td>David</td>\n",
       "      <td>15</td>\n",
       "      <td>Biratnagar</td>\n",
       "      <td>USA</td>\n",
       "    </tr>\n",
       "  </tbody>\n",
       "</table>\n",
       "</div>"
      ],
      "text/plain": [
       "  Full_Name  Age        City Country\n",
       "0     Alice   25    New York     USA\n",
       "1       Ram   30     Pokhara     USA\n",
       "2      Sita   51      Jhumka     USA\n",
       "3     David   15  Biratnagar     USA"
      ]
     },
     "execution_count": 66,
     "metadata": {},
     "output_type": "execute_result"
    }
   ],
   "source": [
    "df = df.rename(columns = {\"Name\":\"Full_Name\"})\n",
    "df"
   ]
  },
  {
   "cell_type": "markdown",
   "id": "6055856b-addb-4bb4-bedb-02cd90ee0564",
   "metadata": {},
   "source": [
    "### Sorting Garnu Parda"
   ]
  },
  {
   "cell_type": "code",
   "execution_count": 68,
   "id": "e90a17d2-7f9c-444a-8445-8e845839a5cd",
   "metadata": {},
   "outputs": [
    {
     "data": {
      "text/html": [
       "<div>\n",
       "<style scoped>\n",
       "    .dataframe tbody tr th:only-of-type {\n",
       "        vertical-align: middle;\n",
       "    }\n",
       "\n",
       "    .dataframe tbody tr th {\n",
       "        vertical-align: top;\n",
       "    }\n",
       "\n",
       "    .dataframe thead th {\n",
       "        text-align: right;\n",
       "    }\n",
       "</style>\n",
       "<table border=\"1\" class=\"dataframe\">\n",
       "  <thead>\n",
       "    <tr style=\"text-align: right;\">\n",
       "      <th></th>\n",
       "      <th>Full_Name</th>\n",
       "      <th>Age</th>\n",
       "      <th>City</th>\n",
       "      <th>Country</th>\n",
       "    </tr>\n",
       "  </thead>\n",
       "  <tbody>\n",
       "    <tr>\n",
       "      <th>2</th>\n",
       "      <td>Sita</td>\n",
       "      <td>51</td>\n",
       "      <td>Jhumka</td>\n",
       "      <td>USA</td>\n",
       "    </tr>\n",
       "    <tr>\n",
       "      <th>1</th>\n",
       "      <td>Ram</td>\n",
       "      <td>30</td>\n",
       "      <td>Pokhara</td>\n",
       "      <td>USA</td>\n",
       "    </tr>\n",
       "    <tr>\n",
       "      <th>0</th>\n",
       "      <td>Alice</td>\n",
       "      <td>25</td>\n",
       "      <td>New York</td>\n",
       "      <td>USA</td>\n",
       "    </tr>\n",
       "    <tr>\n",
       "      <th>3</th>\n",
       "      <td>David</td>\n",
       "      <td>15</td>\n",
       "      <td>Biratnagar</td>\n",
       "      <td>USA</td>\n",
       "    </tr>\n",
       "  </tbody>\n",
       "</table>\n",
       "</div>"
      ],
      "text/plain": [
       "  Full_Name  Age        City Country\n",
       "2      Sita   51      Jhumka     USA\n",
       "1       Ram   30     Pokhara     USA\n",
       "0     Alice   25    New York     USA\n",
       "3     David   15  Biratnagar     USA"
      ]
     },
     "execution_count": 68,
     "metadata": {},
     "output_type": "execute_result"
    }
   ],
   "source": [
    "df_sort = df.sort_values(by=\"Age\" , ascending=False)\n",
    "#ascending=False huda chai Descending order ma sort garcha\n",
    "df_sort"
   ]
  },
  {
   "cell_type": "markdown",
   "id": "ae1c97f0-2e57-48f8-aba7-c3c4384df0e2",
   "metadata": {},
   "source": [
    "## Grouping and Aggregration"
   ]
  },
  {
   "cell_type": "code",
   "execution_count": 69,
   "id": "d194adb6-8df4-4a8a-9a43-9972aeee5610",
   "metadata": {},
   "outputs": [],
   "source": [
    "import pandas as pd\n",
    "import numpy as np\n"
   ]
  },
  {
   "cell_type": "code",
   "execution_count": 72,
   "id": "9635dfa6-cd9d-48a8-b094-101af2de73b3",
   "metadata": {},
   "outputs": [
    {
     "data": {
      "text/html": [
       "<div>\n",
       "<style scoped>\n",
       "    .dataframe tbody tr th:only-of-type {\n",
       "        vertical-align: middle;\n",
       "    }\n",
       "\n",
       "    .dataframe tbody tr th {\n",
       "        vertical-align: top;\n",
       "    }\n",
       "\n",
       "    .dataframe thead th {\n",
       "        text-align: right;\n",
       "    }\n",
       "</style>\n",
       "<table border=\"1\" class=\"dataframe\">\n",
       "  <thead>\n",
       "    <tr style=\"text-align: right;\">\n",
       "      <th></th>\n",
       "      <th>Category</th>\n",
       "      <th>Value</th>\n",
       "    </tr>\n",
       "  </thead>\n",
       "  <tbody>\n",
       "    <tr>\n",
       "      <th>0</th>\n",
       "      <td>A</td>\n",
       "      <td>10</td>\n",
       "    </tr>\n",
       "    <tr>\n",
       "      <th>1</th>\n",
       "      <td>B</td>\n",
       "      <td>20</td>\n",
       "    </tr>\n",
       "    <tr>\n",
       "      <th>2</th>\n",
       "      <td>A</td>\n",
       "      <td>33</td>\n",
       "    </tr>\n",
       "    <tr>\n",
       "      <th>3</th>\n",
       "      <td>A</td>\n",
       "      <td>44</td>\n",
       "    </tr>\n",
       "    <tr>\n",
       "      <th>4</th>\n",
       "      <td>A</td>\n",
       "      <td>55</td>\n",
       "    </tr>\n",
       "    <tr>\n",
       "      <th>5</th>\n",
       "      <td>B</td>\n",
       "      <td>66</td>\n",
       "    </tr>\n",
       "    <tr>\n",
       "      <th>6</th>\n",
       "      <td>B</td>\n",
       "      <td>77</td>\n",
       "    </tr>\n",
       "    <tr>\n",
       "      <th>7</th>\n",
       "      <td>C</td>\n",
       "      <td>88</td>\n",
       "    </tr>\n",
       "  </tbody>\n",
       "</table>\n",
       "</div>"
      ],
      "text/plain": [
       "  Category  Value\n",
       "0        A     10\n",
       "1        B     20\n",
       "2        A     33\n",
       "3        A     44\n",
       "4        A     55\n",
       "5        B     66\n",
       "6        B     77\n",
       "7        C     88"
      ]
     },
     "execution_count": 72,
     "metadata": {},
     "output_type": "execute_result"
    }
   ],
   "source": [
    "\n",
    "df = pd.DataFrame({\n",
    "    \"Category\" : ['A','B','A','A','A','B','B','C'],\n",
    "    \"Value\":[10,20,33,44,55,66,77,88]\n",
    "})\n",
    "df"
   ]
  },
  {
   "cell_type": "code",
   "execution_count": 74,
   "id": "2c46c114-5d25-426f-af73-514a5b5bb03d",
   "metadata": {},
   "outputs": [
    {
     "data": {
      "text/html": [
       "<div>\n",
       "<style scoped>\n",
       "    .dataframe tbody tr th:only-of-type {\n",
       "        vertical-align: middle;\n",
       "    }\n",
       "\n",
       "    .dataframe tbody tr th {\n",
       "        vertical-align: top;\n",
       "    }\n",
       "\n",
       "    .dataframe thead tr th {\n",
       "        text-align: left;\n",
       "    }\n",
       "\n",
       "    .dataframe thead tr:last-of-type th {\n",
       "        text-align: right;\n",
       "    }\n",
       "</style>\n",
       "<table border=\"1\" class=\"dataframe\">\n",
       "  <thead>\n",
       "    <tr>\n",
       "      <th></th>\n",
       "      <th colspan=\"5\" halign=\"left\">Value</th>\n",
       "    </tr>\n",
       "    <tr>\n",
       "      <th></th>\n",
       "      <th>sum</th>\n",
       "      <th>mean</th>\n",
       "      <th>count</th>\n",
       "      <th>min</th>\n",
       "      <th>max</th>\n",
       "    </tr>\n",
       "    <tr>\n",
       "      <th>Category</th>\n",
       "      <th></th>\n",
       "      <th></th>\n",
       "      <th></th>\n",
       "      <th></th>\n",
       "      <th></th>\n",
       "    </tr>\n",
       "  </thead>\n",
       "  <tbody>\n",
       "    <tr>\n",
       "      <th>A</th>\n",
       "      <td>142</td>\n",
       "      <td>35.500000</td>\n",
       "      <td>4</td>\n",
       "      <td>10</td>\n",
       "      <td>55</td>\n",
       "    </tr>\n",
       "    <tr>\n",
       "      <th>B</th>\n",
       "      <td>163</td>\n",
       "      <td>54.333333</td>\n",
       "      <td>3</td>\n",
       "      <td>20</td>\n",
       "      <td>77</td>\n",
       "    </tr>\n",
       "    <tr>\n",
       "      <th>C</th>\n",
       "      <td>88</td>\n",
       "      <td>88.000000</td>\n",
       "      <td>1</td>\n",
       "      <td>88</td>\n",
       "      <td>88</td>\n",
       "    </tr>\n",
       "  </tbody>\n",
       "</table>\n",
       "</div>"
      ],
      "text/plain": [
       "         Value                         \n",
       "           sum       mean count min max\n",
       "Category                               \n",
       "A          142  35.500000     4  10  55\n",
       "B          163  54.333333     3  20  77\n",
       "C           88  88.000000     1  88  88"
      ]
     },
     "execution_count": 74,
     "metadata": {},
     "output_type": "execute_result"
    }
   ],
   "source": [
    "grouped = df.groupby(\"Category\").agg([\"sum\",\"mean\",\"count\",\"min\",\"max\"])\n",
    "grouped"
   ]
  },
  {
   "cell_type": "code",
   "execution_count": 75,
   "id": "8fe1197c-112f-47d6-a273-c7edd53edbc3",
   "metadata": {},
   "outputs": [],
   "source": [
    "df = pd.DataFrame({\n",
    "    \"Category\" : ['A','B','A','A','A','B','B','C'],\n",
    "    \"Value1\":[10,20,33,44,55,66,77,88],\n",
    "    \"Value2\":[100,200,330,440,550,660,770,880]\n",
    "})\n"
   ]
  },
  {
   "cell_type": "code",
   "execution_count": 76,
   "id": "7258677b-7a62-46b8-8f79-d1d403a2b383",
   "metadata": {},
   "outputs": [
    {
     "data": {
      "text/plain": [
       "' aggregation vaneko Multiple Data Lai Single Value Out Dineyy'"
      ]
     },
     "execution_count": 76,
     "metadata": {},
     "output_type": "execute_result"
    }
   ],
   "source": [
    "\"\"\" aggregation vaneko Multiple Data Lai Single Value Out Dineyy\"\"\"\n"
   ]
  },
  {
   "cell_type": "markdown",
   "id": "afc21043-d21d-456c-bb3a-1c2a9cfa5faf",
   "metadata": {},
   "source": [
    "# Handling Missing Data"
   ]
  },
  {
   "cell_type": "code",
   "execution_count": 77,
   "id": "f0c9b96b-a157-44cd-b901-899ffc89fd6a",
   "metadata": {},
   "outputs": [
    {
     "data": {
      "text/html": [
       "<div>\n",
       "<style scoped>\n",
       "    .dataframe tbody tr th:only-of-type {\n",
       "        vertical-align: middle;\n",
       "    }\n",
       "\n",
       "    .dataframe tbody tr th {\n",
       "        vertical-align: top;\n",
       "    }\n",
       "\n",
       "    .dataframe thead th {\n",
       "        text-align: right;\n",
       "    }\n",
       "</style>\n",
       "<table border=\"1\" class=\"dataframe\">\n",
       "  <thead>\n",
       "    <tr style=\"text-align: right;\">\n",
       "      <th></th>\n",
       "      <th>A</th>\n",
       "      <th>B</th>\n",
       "      <th>C</th>\n",
       "    </tr>\n",
       "  </thead>\n",
       "  <tbody>\n",
       "    <tr>\n",
       "      <th>0</th>\n",
       "      <td>1.0</td>\n",
       "      <td>5.0</td>\n",
       "      <td>a</td>\n",
       "    </tr>\n",
       "    <tr>\n",
       "      <th>1</th>\n",
       "      <td>2.0</td>\n",
       "      <td>NaN</td>\n",
       "      <td>b</td>\n",
       "    </tr>\n",
       "    <tr>\n",
       "      <th>2</th>\n",
       "      <td>NaN</td>\n",
       "      <td>NaN</td>\n",
       "      <td>c</td>\n",
       "    </tr>\n",
       "    <tr>\n",
       "      <th>3</th>\n",
       "      <td>4.0</td>\n",
       "      <td>8.0</td>\n",
       "      <td>None</td>\n",
       "    </tr>\n",
       "  </tbody>\n",
       "</table>\n",
       "</div>"
      ],
      "text/plain": [
       "     A    B     C\n",
       "0  1.0  5.0     a\n",
       "1  2.0  NaN     b\n",
       "2  NaN  NaN     c\n",
       "3  4.0  8.0  None"
      ]
     },
     "execution_count": 77,
     "metadata": {},
     "output_type": "execute_result"
    }
   ],
   "source": [
    "import pandas as pd\n",
    "import numpy as np\n",
    "\n",
    "df = pd.DataFrame({\n",
    "    'A' : [1,2,np.nan , 4],\n",
    "    'B': [5,np.nan , np.nan,8],\n",
    "    'C' : ['a','b','c', None ]\n",
    "}\n",
    "    )\n",
    "\n",
    "df"
   ]
  },
  {
   "cell_type": "code",
   "execution_count": 78,
   "id": "59397359-fc63-4062-927e-555898053010",
   "metadata": {},
   "outputs": [
    {
     "name": "stdout",
     "output_type": "stream",
     "text": [
      "       A      B      C\n",
      "0  False  False  False\n",
      "1  False   True  False\n",
      "2   True   True  False\n",
      "3  False  False   True\n"
     ]
    }
   ],
   "source": [
    "print(df.isna())"
   ]
  },
  {
   "cell_type": "code",
   "execution_count": null,
   "id": "49f4327a-a226-4db9-aa23-e274372c9d7e",
   "metadata": {},
   "outputs": [],
   "source": []
  }
 ],
 "metadata": {
  "kernelspec": {
   "display_name": "Python 3 (ipykernel)",
   "language": "python",
   "name": "python3"
  },
  "language_info": {
   "codemirror_mode": {
    "name": "ipython",
    "version": 3
   },
   "file_extension": ".py",
   "mimetype": "text/x-python",
   "name": "python",
   "nbconvert_exporter": "python",
   "pygments_lexer": "ipython3",
   "version": "3.12.3"
  }
 },
 "nbformat": 4,
 "nbformat_minor": 5
}
