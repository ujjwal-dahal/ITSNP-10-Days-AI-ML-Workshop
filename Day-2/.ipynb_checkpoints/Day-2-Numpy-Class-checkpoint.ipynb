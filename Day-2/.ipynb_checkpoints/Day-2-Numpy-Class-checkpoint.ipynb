{
 "cells": [
  {
   "cell_type": "markdown",
   "id": "fbd31c79-78f0-4eec-b7c1-54e869a019e7",
   "metadata": {},
   "source": [
    "# Numpy Class"
   ]
  },
  {
   "cell_type": "code",
   "execution_count": 8,
   "id": "66c76f8f-8ed5-44fa-8f80-a60bece2241a",
   "metadata": {},
   "outputs": [],
   "source": [
    "import numpy as np"
   ]
  },
  {
   "cell_type": "code",
   "execution_count": 9,
   "id": "0c62e121-5361-46ad-9c75-48fe0a550a36",
   "metadata": {},
   "outputs": [
    {
     "name": "stdout",
     "output_type": "stream",
     "text": [
      "1D Array :  [1 2 3 4]\n"
     ]
    }
   ],
   "source": [
    "#Create a 1D array\n",
    "\n",
    "arr1 = np.array([1, 2, 3, 4])\n",
    "print(\"1D Array : \", arr1)"
   ]
  },
  {
   "cell_type": "code",
   "execution_count": 10,
   "id": "9cbde972-75fd-4b83-9b0c-23f904c90ee6",
   "metadata": {},
   "outputs": [
    {
     "name": "stdout",
     "output_type": "stream",
     "text": [
      "2D array is :  [[1 2]\n",
      " [3 4]]\n"
     ]
    }
   ],
   "source": [
    "#Create a 2D array\n",
    "\n",
    "arr2 = np.array([ [1,2] , [3,4] ])\n",
    "print(\"2D array is : \",arr2)"
   ]
  },
  {
   "cell_type": "code",
   "execution_count": 11,
   "id": "10c22842-5791-482a-ba74-3048ff8fe319",
   "metadata": {},
   "outputs": [
    {
     "name": "stdout",
     "output_type": "stream",
     "text": [
      "Array : \n",
      " [[1 2 3]\n",
      " [4 5 6]]\n",
      "Shape :  (2, 3)\n",
      "Dimension :  2\n",
      "\n",
      "Data Types :  int64\n"
     ]
    }
   ],
   "source": [
    "import numpy as np\n",
    "\n",
    "arr = np.array([ [1,2,3], [4,5,6]])\n",
    "print(\"Array : \\n\" , arr)\n",
    "print(\"Shape : \" , arr.shape)\n",
    "print(\"Dimension : \" , arr.ndim)\n",
    "print(\"\\nData Types : \", arr.dtype)"
   ]
  },
  {
   "cell_type": "code",
   "execution_count": 13,
   "id": "1aff7dcf-e29f-4ff0-a984-ad20d7ec2373",
   "metadata": {},
   "outputs": [
    {
     "name": "stdout",
     "output_type": "stream",
     "text": [
      "Shape is :  (4,)\n"
     ]
    }
   ],
   "source": [
    "#creating 1D array\n",
    "\n",
    "arr_1d = np.array([1,2,3,4])\n",
    "print(\"Shape is : \" , arr_1d.shape)"
   ]
  },
  {
   "cell_type": "code",
   "execution_count": 15,
   "id": "a1c8dc2b-50f9-42cc-b42d-de16b8b847ca",
   "metadata": {},
   "outputs": [
    {
     "name": "stdout",
     "output_type": "stream",
     "text": [
      "2D Array is : \n",
      " [[1 2 3]\n",
      " [4 5 6]]\n",
      "Shape :  (2, 3)\n",
      "Dimension is :  2\n"
     ]
    }
   ],
   "source": [
    "#creating 2d array\n",
    "\n",
    "arr_2d = np.array([ [1,2,3] , [4,5,6]])\n",
    "print(\"2D Array is : \\n\" ,arr_2d)\n",
    "print(\"Shape : \" , arr_2d.shape)\n",
    "print(\"Dimension is : \" , arr_2d.ndim)\n"
   ]
  },
  {
   "cell_type": "code",
   "execution_count": 18,
   "id": "4edce1e6-d529-44bb-b0e7-18d52f2a7078",
   "metadata": {},
   "outputs": [],
   "source": [
    "#3d Array \n",
    "arr_3d = np.array( [[ [1,2] , [5,6] , [7,8] ]])"
   ]
  },
  {
   "cell_type": "code",
   "execution_count": 19,
   "id": "6bd6318e-255a-4218-9b08-8da56d8e23c8",
   "metadata": {},
   "outputs": [
    {
     "name": "stdout",
     "output_type": "stream",
     "text": [
      "3D array : \n",
      " (1, 3, 2)\n"
     ]
    }
   ],
   "source": [
    "print(\"3D array : \\n\" , arr_3d.shape)"
   ]
  },
  {
   "cell_type": "markdown",
   "id": "7c22ad17-95bc-4eda-bdb6-ad03899195bd",
   "metadata": {},
   "source": [
    "# Array Operations"
   ]
  },
  {
   "cell_type": "code",
   "execution_count": 20,
   "id": "d9398089-b442-404e-bc22-0e347e34f21f",
   "metadata": {},
   "outputs": [
    {
     "name": "stdout",
     "output_type": "stream",
     "text": [
      "Original array :  [1 2 3 4 5]\n",
      "Add 5 :  [ 6  7  8  9 10]\n"
     ]
    }
   ],
   "source": [
    "import numpy as np\n",
    "\n",
    "arr = np.array([1,2,3,4,5])\n",
    "print(\"Original array : \" , arr)\n",
    "print(\"Add 5 : \" , arr + 5 ) #esle array ko sabai element ma 5 le add garcha"
   ]
  },
  {
   "cell_type": "markdown",
   "id": "a2030b69-3d33-4f76-9740-3c379d5b82a3",
   "metadata": {},
   "source": [
    "# Array Indexing & Slicing\n"
   ]
  },
  {
   "cell_type": "code",
   "execution_count": 21,
   "id": "bcdc423d-148f-41a8-b0fd-1e56ffb87ef9",
   "metadata": {},
   "outputs": [],
   "source": [
    "import numpy as np\n",
    "\n",
    "arr = np.array([ [1,2,3] , [4,5,6] ])"
   ]
  },
  {
   "cell_type": "code",
   "execution_count": 22,
   "id": "5f285322-91fd-40d3-a1e5-fa888a073795",
   "metadata": {},
   "outputs": [
    {
     "name": "stdout",
     "output_type": "stream",
     "text": [
      "Array : \n",
      " [[1 2 3]\n",
      " [4 5 6]]\n"
     ]
    }
   ],
   "source": [
    "print(\"Array : \\n\", arr)"
   ]
  },
  {
   "cell_type": "code",
   "execution_count": 23,
   "id": "1ea4a78f-7025-4e88-92f0-62a1dd723a79",
   "metadata": {},
   "outputs": [
    {
     "name": "stdout",
     "output_type": "stream",
     "text": [
      "Element at [0,1]:  2\n"
     ]
    }
   ],
   "source": [
    "print(\"Element at [0,1]: \" , arr[0,1])"
   ]
  },
  {
   "cell_type": "code",
   "execution_count": 24,
   "id": "e9ab3b47-0225-407b-882b-a3fab9f02266",
   "metadata": {},
   "outputs": [
    {
     "name": "stdout",
     "output_type": "stream",
     "text": [
      "First Row: [1 2 3]\n"
     ]
    }
   ],
   "source": [
    "print(\"First Row:\" , arr[0, :])"
   ]
  },
  {
   "cell_type": "markdown",
   "id": "e2722c17-f401-4c10-bbad-1701f3748513",
   "metadata": {},
   "source": [
    "# Mathematical Functions"
   ]
  },
  {
   "cell_type": "code",
   "execution_count": 25,
   "id": "7d15c9e8-6401-4709-881c-b0240903f0e5",
   "metadata": {},
   "outputs": [
    {
     "name": "stdout",
     "output_type": "stream",
     "text": [
      "Array :  [1 2 3 4]\n"
     ]
    }
   ],
   "source": [
    "import numpy as np \n",
    "\n",
    "arr = np.array([ 1, 2 , 3  ,4 ])\n",
    "print(\"Array : \" , arr)"
   ]
  },
  {
   "cell_type": "code",
   "execution_count": 27,
   "id": "4544076d-39df-463f-aee4-33ec5e4c03b8",
   "metadata": {},
   "outputs": [
    {
     "name": "stdout",
     "output_type": "stream",
     "text": [
      "Sab Element ko Sine nikalcha :  [ 0.84147098  0.90929743  0.14112001 -0.7568025 ]\n"
     ]
    }
   ],
   "source": [
    "print(\"Sab Element ko Sine nikalcha : \" , np.sin(arr))"
   ]
  },
  {
   "cell_type": "code",
   "execution_count": 28,
   "id": "261526d5-70d1-40ef-8e7c-3687f0ec9e8d",
   "metadata": {},
   "outputs": [
    {
     "name": "stdout",
     "output_type": "stream",
     "text": [
      "Sab Elements ko total nikalna cha bhane :  10\n"
     ]
    }
   ],
   "source": [
    "print(\"Sab Elements ko total nikalna cha bhane : \", np.sum(arr))"
   ]
  },
  {
   "cell_type": "markdown",
   "id": "a42e688b-72fc-4cf3-994a-45f11508b746",
   "metadata": {},
   "source": [
    "# Reshaping arrays"
   ]
  },
  {
   "cell_type": "code",
   "execution_count": 29,
   "id": "927b276f-8b0d-4615-ad77-f9ca30b60f2f",
   "metadata": {},
   "outputs": [],
   "source": [
    "#array ko dimension interchangeable pani huncha\n",
    "# i.e 1d lai 2d ma change garna ni milo & 2d lai 1d ma change garna ni milo"
   ]
  },
  {
   "cell_type": "code",
   "execution_count": null,
   "id": "af922ab1-cbb2-4898-af72-3854fd61d4c5",
   "metadata": {},
   "outputs": [],
   "source": []
  }
 ],
 "metadata": {
  "kernelspec": {
   "display_name": "Python 3 (ipykernel)",
   "language": "python",
   "name": "python3"
  },
  "language_info": {
   "codemirror_mode": {
    "name": "ipython",
    "version": 3
   },
   "file_extension": ".py",
   "mimetype": "text/x-python",
   "name": "python",
   "nbconvert_exporter": "python",
   "pygments_lexer": "ipython3",
   "version": "3.12.3"
  }
 },
 "nbformat": 4,
 "nbformat_minor": 5
}
